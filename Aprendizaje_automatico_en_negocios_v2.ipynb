{
 "cells": [
  {
   "cell_type": "markdown",
   "id": "9f6fe923",
   "metadata": {},
   "source": [
    "# Introducción\n",
    "Trabajas para la compañía minera OilyGiant. Tu tarea es encontrar el mejor lugar para un nuevo pozo.\n",
    "Pasos para elegir la ubicación:\n",
    "\n",
    "- Recolecta los parámetros del pozo de petróleo en la región seleccionada: calidad del petróleo y volumen de reservas.\n",
    "- Construye un modelo para predecir el volumen de reservas en los nuevos pozos;\n",
    "- Selecciona los pozos de petróleo con los valores estimados más altos;\n",
    "- Elige la región con el mayor beneficio total para los pozos de petróleo seleccionados.\n",
    "\n",
    "Tienes datos sobre muestras de crudo de tres regiones. Ya se conocen los parámetros de cada pozo petrolero de la región. \n",
    "\n",
    "## Objetivo\n",
    "\n",
    "Crea un modelo que ayude a elegir la región con el mayor margen de beneficio. Analiza los beneficios y riesgos potenciales utilizando la técnica bootstrapping.\n",
    "\n",
    "## Indice\n",
    "\n",
    "1. Introducción\n",
    "2. Entrenamiento y prueba del modelo en cada región\n",
    "3. Cálculo de ganancias\n",
    "4. Cálculo de ganancias de un conjunto de pozos de petroleo\n",
    "5. Cálculo de riesgos y ganancias por cada región\n",
    "6. Conclusiones\n",
    "\n",
    "## Preparación de los datos\n",
    "\n",
    "Las fuentes de datos a utilizar se encuentran dentro de la carpeta `datasets` y sus nombres son:\n",
    "\n",
    "- `geo_data_0`\n",
    "- `geo_data_1`\n",
    "- `geo_data_2`\n",
    "\n",
    "Iniciaremos con la exploración de los datos contenidos en las fuentes anteriormente mencionadas y validar la calidad de los registros."
   ]
  },
  {
   "cell_type": "code",
   "execution_count": 1,
   "id": "76a0427c",
   "metadata": {},
   "outputs": [],
   "source": [
    "# Importando librerias\n",
    "import pandas as pd\n",
    "import numpy as np\n",
    "import matplotlib.pyplot as plt\n",
    "from sklearn.linear_model import LinearRegression\n",
    "from sklearn.model_selection import train_test_split\n",
    "from sklearn.metrics import mean_squared_error\n",
    "from scipy import stats as st"
   ]
  },
  {
   "cell_type": "code",
   "execution_count": 2,
   "id": "3e3f4e69",
   "metadata": {},
   "outputs": [],
   "source": [
    "# Creación de \"df0\", \"df1\", \"df2\"\n",
    "df0 = pd.read_csv('datasets/geo_data_0.csv')\n",
    "df1 = pd.read_csv('datasets/geo_data_1.csv')\n",
    "df2 = pd.read_csv('datasets/geo_data_2.csv')"
   ]
  },
  {
   "cell_type": "code",
   "execution_count": 3,
   "id": "a292ca6c",
   "metadata": {},
   "outputs": [
    {
     "name": "stdout",
     "output_type": "stream",
     "text": [
      "<class 'pandas.core.frame.DataFrame'>\n",
      "RangeIndex: 100000 entries, 0 to 99999\n",
      "Data columns (total 5 columns):\n",
      " #   Column   Non-Null Count   Dtype  \n",
      "---  ------   --------------   -----  \n",
      " 0   id       100000 non-null  object \n",
      " 1   f0       100000 non-null  float64\n",
      " 2   f1       100000 non-null  float64\n",
      " 3   f2       100000 non-null  float64\n",
      " 4   product  100000 non-null  float64\n",
      "dtypes: float64(4), object(1)\n",
      "memory usage: 3.8+ MB\n"
     ]
    }
   ],
   "source": [
    "# Validando información en \"df0\"\n",
    "df0.info()"
   ]
  },
  {
   "cell_type": "code",
   "execution_count": 4,
   "id": "fa70e6e4",
   "metadata": {},
   "outputs": [
    {
     "data": {
      "text/html": [
       "<div>\n",
       "<style scoped>\n",
       "    .dataframe tbody tr th:only-of-type {\n",
       "        vertical-align: middle;\n",
       "    }\n",
       "\n",
       "    .dataframe tbody tr th {\n",
       "        vertical-align: top;\n",
       "    }\n",
       "\n",
       "    .dataframe thead th {\n",
       "        text-align: right;\n",
       "    }\n",
       "</style>\n",
       "<table border=\"1\" class=\"dataframe\">\n",
       "  <thead>\n",
       "    <tr style=\"text-align: right;\">\n",
       "      <th></th>\n",
       "      <th>id</th>\n",
       "      <th>f0</th>\n",
       "      <th>f1</th>\n",
       "      <th>f2</th>\n",
       "      <th>product</th>\n",
       "    </tr>\n",
       "  </thead>\n",
       "  <tbody>\n",
       "    <tr>\n",
       "      <th>0</th>\n",
       "      <td>txEyH</td>\n",
       "      <td>0.705745</td>\n",
       "      <td>-0.497823</td>\n",
       "      <td>1.221170</td>\n",
       "      <td>105.280062</td>\n",
       "    </tr>\n",
       "    <tr>\n",
       "      <th>1</th>\n",
       "      <td>2acmU</td>\n",
       "      <td>1.334711</td>\n",
       "      <td>-0.340164</td>\n",
       "      <td>4.365080</td>\n",
       "      <td>73.037750</td>\n",
       "    </tr>\n",
       "    <tr>\n",
       "      <th>2</th>\n",
       "      <td>409Wp</td>\n",
       "      <td>1.022732</td>\n",
       "      <td>0.151990</td>\n",
       "      <td>1.419926</td>\n",
       "      <td>85.265647</td>\n",
       "    </tr>\n",
       "    <tr>\n",
       "      <th>3</th>\n",
       "      <td>iJLyR</td>\n",
       "      <td>-0.032172</td>\n",
       "      <td>0.139033</td>\n",
       "      <td>2.978566</td>\n",
       "      <td>168.620776</td>\n",
       "    </tr>\n",
       "    <tr>\n",
       "      <th>4</th>\n",
       "      <td>Xdl7t</td>\n",
       "      <td>1.988431</td>\n",
       "      <td>0.155413</td>\n",
       "      <td>4.751769</td>\n",
       "      <td>154.036647</td>\n",
       "    </tr>\n",
       "    <tr>\n",
       "      <th>5</th>\n",
       "      <td>wX4Hy</td>\n",
       "      <td>0.969570</td>\n",
       "      <td>0.489775</td>\n",
       "      <td>-0.735383</td>\n",
       "      <td>64.741541</td>\n",
       "    </tr>\n",
       "    <tr>\n",
       "      <th>6</th>\n",
       "      <td>tL6pL</td>\n",
       "      <td>0.645075</td>\n",
       "      <td>0.530656</td>\n",
       "      <td>1.780266</td>\n",
       "      <td>49.055285</td>\n",
       "    </tr>\n",
       "    <tr>\n",
       "      <th>7</th>\n",
       "      <td>BYPU6</td>\n",
       "      <td>-0.400648</td>\n",
       "      <td>0.808337</td>\n",
       "      <td>-5.624670</td>\n",
       "      <td>72.943292</td>\n",
       "    </tr>\n",
       "    <tr>\n",
       "      <th>8</th>\n",
       "      <td>j9Oui</td>\n",
       "      <td>0.643105</td>\n",
       "      <td>-0.551583</td>\n",
       "      <td>2.372141</td>\n",
       "      <td>113.356160</td>\n",
       "    </tr>\n",
       "    <tr>\n",
       "      <th>9</th>\n",
       "      <td>OLuZU</td>\n",
       "      <td>2.173381</td>\n",
       "      <td>0.563698</td>\n",
       "      <td>9.441852</td>\n",
       "      <td>127.910945</td>\n",
       "    </tr>\n",
       "  </tbody>\n",
       "</table>\n",
       "</div>"
      ],
      "text/plain": [
       "      id        f0        f1        f2     product\n",
       "0  txEyH  0.705745 -0.497823  1.221170  105.280062\n",
       "1  2acmU  1.334711 -0.340164  4.365080   73.037750\n",
       "2  409Wp  1.022732  0.151990  1.419926   85.265647\n",
       "3  iJLyR -0.032172  0.139033  2.978566  168.620776\n",
       "4  Xdl7t  1.988431  0.155413  4.751769  154.036647\n",
       "5  wX4Hy  0.969570  0.489775 -0.735383   64.741541\n",
       "6  tL6pL  0.645075  0.530656  1.780266   49.055285\n",
       "7  BYPU6 -0.400648  0.808337 -5.624670   72.943292\n",
       "8  j9Oui  0.643105 -0.551583  2.372141  113.356160\n",
       "9  OLuZU  2.173381  0.563698  9.441852  127.910945"
      ]
     },
     "execution_count": 4,
     "metadata": {},
     "output_type": "execute_result"
    }
   ],
   "source": [
    "# Visualizando primeros 10 registros de \"df0\"\n",
    "df0.head(10)"
   ]
  },
  {
   "cell_type": "markdown",
   "id": "6d5686e7",
   "metadata": {},
   "source": [
    "De manera general, no se visualizan registros nulos o con un tipo de dato incorrecto, por último procederemos con la validación de unicidad de las filas."
   ]
  },
  {
   "cell_type": "code",
   "execution_count": 5,
   "id": "114b811d",
   "metadata": {},
   "outputs": [
    {
     "data": {
      "text/plain": [
       "0"
      ]
     },
     "execution_count": 5,
     "metadata": {},
     "output_type": "execute_result"
    }
   ],
   "source": [
    "# Explorando duplicidad de registros para \"df0\"\n",
    "df0.duplicated().sum()"
   ]
  },
  {
   "cell_type": "markdown",
   "id": "cff0d012",
   "metadata": {},
   "source": [
    "El set de datos cuenta con registros únicos, con lo anterior realizado podemos validar que la información con la que se cuenta esta completa para ser procesada. Continuaremos de la misma manera para `df1` y `df2`."
   ]
  },
  {
   "cell_type": "code",
   "execution_count": 6,
   "id": "4b1b7bd6",
   "metadata": {},
   "outputs": [
    {
     "name": "stdout",
     "output_type": "stream",
     "text": [
      "<class 'pandas.core.frame.DataFrame'>\n",
      "RangeIndex: 100000 entries, 0 to 99999\n",
      "Data columns (total 5 columns):\n",
      " #   Column   Non-Null Count   Dtype  \n",
      "---  ------   --------------   -----  \n",
      " 0   id       100000 non-null  object \n",
      " 1   f0       100000 non-null  float64\n",
      " 2   f1       100000 non-null  float64\n",
      " 3   f2       100000 non-null  float64\n",
      " 4   product  100000 non-null  float64\n",
      "dtypes: float64(4), object(1)\n",
      "memory usage: 3.8+ MB\n"
     ]
    }
   ],
   "source": [
    "# Validando información en \"df1\"\n",
    "df1.info()"
   ]
  },
  {
   "cell_type": "code",
   "execution_count": 7,
   "id": "51120408",
   "metadata": {},
   "outputs": [
    {
     "data": {
      "text/html": [
       "<div>\n",
       "<style scoped>\n",
       "    .dataframe tbody tr th:only-of-type {\n",
       "        vertical-align: middle;\n",
       "    }\n",
       "\n",
       "    .dataframe tbody tr th {\n",
       "        vertical-align: top;\n",
       "    }\n",
       "\n",
       "    .dataframe thead th {\n",
       "        text-align: right;\n",
       "    }\n",
       "</style>\n",
       "<table border=\"1\" class=\"dataframe\">\n",
       "  <thead>\n",
       "    <tr style=\"text-align: right;\">\n",
       "      <th></th>\n",
       "      <th>id</th>\n",
       "      <th>f0</th>\n",
       "      <th>f1</th>\n",
       "      <th>f2</th>\n",
       "      <th>product</th>\n",
       "    </tr>\n",
       "  </thead>\n",
       "  <tbody>\n",
       "    <tr>\n",
       "      <th>0</th>\n",
       "      <td>kBEdx</td>\n",
       "      <td>-15.001348</td>\n",
       "      <td>-8.276000</td>\n",
       "      <td>-0.005876</td>\n",
       "      <td>3.179103</td>\n",
       "    </tr>\n",
       "    <tr>\n",
       "      <th>1</th>\n",
       "      <td>62mP7</td>\n",
       "      <td>14.272088</td>\n",
       "      <td>-3.475083</td>\n",
       "      <td>0.999183</td>\n",
       "      <td>26.953261</td>\n",
       "    </tr>\n",
       "    <tr>\n",
       "      <th>2</th>\n",
       "      <td>vyE1P</td>\n",
       "      <td>6.263187</td>\n",
       "      <td>-5.948386</td>\n",
       "      <td>5.001160</td>\n",
       "      <td>134.766305</td>\n",
       "    </tr>\n",
       "    <tr>\n",
       "      <th>3</th>\n",
       "      <td>KcrkZ</td>\n",
       "      <td>-13.081196</td>\n",
       "      <td>-11.506057</td>\n",
       "      <td>4.999415</td>\n",
       "      <td>137.945408</td>\n",
       "    </tr>\n",
       "    <tr>\n",
       "      <th>4</th>\n",
       "      <td>AHL4O</td>\n",
       "      <td>12.702195</td>\n",
       "      <td>-8.147433</td>\n",
       "      <td>5.004363</td>\n",
       "      <td>134.766305</td>\n",
       "    </tr>\n",
       "    <tr>\n",
       "      <th>5</th>\n",
       "      <td>HHckp</td>\n",
       "      <td>-3.327590</td>\n",
       "      <td>-2.205276</td>\n",
       "      <td>3.003647</td>\n",
       "      <td>84.038886</td>\n",
       "    </tr>\n",
       "    <tr>\n",
       "      <th>6</th>\n",
       "      <td>h5Ujo</td>\n",
       "      <td>-11.142655</td>\n",
       "      <td>-10.133399</td>\n",
       "      <td>4.002382</td>\n",
       "      <td>110.992147</td>\n",
       "    </tr>\n",
       "    <tr>\n",
       "      <th>7</th>\n",
       "      <td>muH9x</td>\n",
       "      <td>4.234715</td>\n",
       "      <td>-0.001354</td>\n",
       "      <td>2.004588</td>\n",
       "      <td>53.906522</td>\n",
       "    </tr>\n",
       "    <tr>\n",
       "      <th>8</th>\n",
       "      <td>YiRkx</td>\n",
       "      <td>13.355129</td>\n",
       "      <td>-0.332068</td>\n",
       "      <td>4.998647</td>\n",
       "      <td>134.766305</td>\n",
       "    </tr>\n",
       "    <tr>\n",
       "      <th>9</th>\n",
       "      <td>jG6Gi</td>\n",
       "      <td>1.069227</td>\n",
       "      <td>-11.025667</td>\n",
       "      <td>4.997844</td>\n",
       "      <td>137.945408</td>\n",
       "    </tr>\n",
       "  </tbody>\n",
       "</table>\n",
       "</div>"
      ],
      "text/plain": [
       "      id         f0         f1        f2     product\n",
       "0  kBEdx -15.001348  -8.276000 -0.005876    3.179103\n",
       "1  62mP7  14.272088  -3.475083  0.999183   26.953261\n",
       "2  vyE1P   6.263187  -5.948386  5.001160  134.766305\n",
       "3  KcrkZ -13.081196 -11.506057  4.999415  137.945408\n",
       "4  AHL4O  12.702195  -8.147433  5.004363  134.766305\n",
       "5  HHckp  -3.327590  -2.205276  3.003647   84.038886\n",
       "6  h5Ujo -11.142655 -10.133399  4.002382  110.992147\n",
       "7  muH9x   4.234715  -0.001354  2.004588   53.906522\n",
       "8  YiRkx  13.355129  -0.332068  4.998647  134.766305\n",
       "9  jG6Gi   1.069227 -11.025667  4.997844  137.945408"
      ]
     },
     "execution_count": 7,
     "metadata": {},
     "output_type": "execute_result"
    }
   ],
   "source": [
    "# Visualizando primeros 10 registros de \"df1\"\n",
    "df1.head(10)"
   ]
  },
  {
   "cell_type": "code",
   "execution_count": 8,
   "id": "9a786895",
   "metadata": {},
   "outputs": [
    {
     "data": {
      "text/plain": [
       "0"
      ]
     },
     "execution_count": 8,
     "metadata": {},
     "output_type": "execute_result"
    }
   ],
   "source": [
    "# Explorando duplicidad de registros para \"df1\"\n",
    "df1.duplicated().sum()"
   ]
  },
  {
   "cell_type": "code",
   "execution_count": 9,
   "id": "004926e3",
   "metadata": {},
   "outputs": [
    {
     "name": "stdout",
     "output_type": "stream",
     "text": [
      "<class 'pandas.core.frame.DataFrame'>\n",
      "RangeIndex: 100000 entries, 0 to 99999\n",
      "Data columns (total 5 columns):\n",
      " #   Column   Non-Null Count   Dtype  \n",
      "---  ------   --------------   -----  \n",
      " 0   id       100000 non-null  object \n",
      " 1   f0       100000 non-null  float64\n",
      " 2   f1       100000 non-null  float64\n",
      " 3   f2       100000 non-null  float64\n",
      " 4   product  100000 non-null  float64\n",
      "dtypes: float64(4), object(1)\n",
      "memory usage: 3.8+ MB\n"
     ]
    }
   ],
   "source": [
    "# Validando información en \"df2\"\n",
    "df2.info()"
   ]
  },
  {
   "cell_type": "code",
   "execution_count": 10,
   "id": "4238dcee",
   "metadata": {},
   "outputs": [
    {
     "data": {
      "text/html": [
       "<div>\n",
       "<style scoped>\n",
       "    .dataframe tbody tr th:only-of-type {\n",
       "        vertical-align: middle;\n",
       "    }\n",
       "\n",
       "    .dataframe tbody tr th {\n",
       "        vertical-align: top;\n",
       "    }\n",
       "\n",
       "    .dataframe thead th {\n",
       "        text-align: right;\n",
       "    }\n",
       "</style>\n",
       "<table border=\"1\" class=\"dataframe\">\n",
       "  <thead>\n",
       "    <tr style=\"text-align: right;\">\n",
       "      <th></th>\n",
       "      <th>id</th>\n",
       "      <th>f0</th>\n",
       "      <th>f1</th>\n",
       "      <th>f2</th>\n",
       "      <th>product</th>\n",
       "    </tr>\n",
       "  </thead>\n",
       "  <tbody>\n",
       "    <tr>\n",
       "      <th>0</th>\n",
       "      <td>fwXo0</td>\n",
       "      <td>-1.146987</td>\n",
       "      <td>0.963328</td>\n",
       "      <td>-0.828965</td>\n",
       "      <td>27.758673</td>\n",
       "    </tr>\n",
       "    <tr>\n",
       "      <th>1</th>\n",
       "      <td>WJtFt</td>\n",
       "      <td>0.262778</td>\n",
       "      <td>0.269839</td>\n",
       "      <td>-2.530187</td>\n",
       "      <td>56.069697</td>\n",
       "    </tr>\n",
       "    <tr>\n",
       "      <th>2</th>\n",
       "      <td>ovLUW</td>\n",
       "      <td>0.194587</td>\n",
       "      <td>0.289035</td>\n",
       "      <td>-5.586433</td>\n",
       "      <td>62.871910</td>\n",
       "    </tr>\n",
       "    <tr>\n",
       "      <th>3</th>\n",
       "      <td>q6cA6</td>\n",
       "      <td>2.236060</td>\n",
       "      <td>-0.553760</td>\n",
       "      <td>0.930038</td>\n",
       "      <td>114.572842</td>\n",
       "    </tr>\n",
       "    <tr>\n",
       "      <th>4</th>\n",
       "      <td>WPMUX</td>\n",
       "      <td>-0.515993</td>\n",
       "      <td>1.716266</td>\n",
       "      <td>5.899011</td>\n",
       "      <td>149.600746</td>\n",
       "    </tr>\n",
       "    <tr>\n",
       "      <th>5</th>\n",
       "      <td>LzZXx</td>\n",
       "      <td>-0.758092</td>\n",
       "      <td>0.710691</td>\n",
       "      <td>2.585887</td>\n",
       "      <td>90.222465</td>\n",
       "    </tr>\n",
       "    <tr>\n",
       "      <th>6</th>\n",
       "      <td>WBHRv</td>\n",
       "      <td>-0.574891</td>\n",
       "      <td>0.317727</td>\n",
       "      <td>1.773745</td>\n",
       "      <td>45.641478</td>\n",
       "    </tr>\n",
       "    <tr>\n",
       "      <th>7</th>\n",
       "      <td>XO8fn</td>\n",
       "      <td>-1.906649</td>\n",
       "      <td>-2.458350</td>\n",
       "      <td>-0.177097</td>\n",
       "      <td>72.480640</td>\n",
       "    </tr>\n",
       "    <tr>\n",
       "      <th>8</th>\n",
       "      <td>ybmQ5</td>\n",
       "      <td>1.776292</td>\n",
       "      <td>-0.279356</td>\n",
       "      <td>3.004156</td>\n",
       "      <td>106.616832</td>\n",
       "    </tr>\n",
       "    <tr>\n",
       "      <th>9</th>\n",
       "      <td>OilcN</td>\n",
       "      <td>-1.214452</td>\n",
       "      <td>-0.439314</td>\n",
       "      <td>5.922514</td>\n",
       "      <td>52.954532</td>\n",
       "    </tr>\n",
       "  </tbody>\n",
       "</table>\n",
       "</div>"
      ],
      "text/plain": [
       "      id        f0        f1        f2     product\n",
       "0  fwXo0 -1.146987  0.963328 -0.828965   27.758673\n",
       "1  WJtFt  0.262778  0.269839 -2.530187   56.069697\n",
       "2  ovLUW  0.194587  0.289035 -5.586433   62.871910\n",
       "3  q6cA6  2.236060 -0.553760  0.930038  114.572842\n",
       "4  WPMUX -0.515993  1.716266  5.899011  149.600746\n",
       "5  LzZXx -0.758092  0.710691  2.585887   90.222465\n",
       "6  WBHRv -0.574891  0.317727  1.773745   45.641478\n",
       "7  XO8fn -1.906649 -2.458350 -0.177097   72.480640\n",
       "8  ybmQ5  1.776292 -0.279356  3.004156  106.616832\n",
       "9  OilcN -1.214452 -0.439314  5.922514   52.954532"
      ]
     },
     "execution_count": 10,
     "metadata": {},
     "output_type": "execute_result"
    }
   ],
   "source": [
    "# Visualizando primeros 10 registros de \"df2\"\n",
    "df2.head(10)"
   ]
  },
  {
   "cell_type": "code",
   "execution_count": 11,
   "id": "bb49be19",
   "metadata": {},
   "outputs": [
    {
     "data": {
      "text/plain": [
       "0"
      ]
     },
     "execution_count": 11,
     "metadata": {},
     "output_type": "execute_result"
    }
   ],
   "source": [
    "# Explorando duplicidad de registros para \"df2\"\n",
    "df2.duplicated().sum()"
   ]
  },
  {
   "cell_type": "markdown",
   "id": "343c0be2",
   "metadata": {},
   "source": [
    "Una vez verificando que los registros se encuentran en orden y listos para ser procesados crearemos el modelo de entrenamiento bajo la siguinte característica:\n",
    "\n",
    "- El conjunto de entrenamiento y el conjunto de validación tendrán una proporción de 75:25.\n",
    "\n",
    "# Entrenamiento y prueba de modelo para cada región\n",
    "\n",
    "Con intención de no ejecutar procesamiento innecesario, uno de forma intuitiva crearía un solo modelo de `regresión líneal` para entrenar los datos de las 3 regiones proporcionadas, sin embargo, debido a la poca información que se tiene de las caracteríasticas y el desconocimiento del como influyen en las ganancias que generan los pozos, podría ser conveniente primero realizar el entrenamiento de modelos disintos con su respectiva región y hacer pruebas con los conjuntos de pruebas del resto de regiones para evaluar el rendimiento de predicción y poder concretar la forma de trabajo.\n",
    "\n",
    "## Dividiendo el conjunto de datos en el conjunto de entrenamiento y el conjunto de validación para la región \"df0\""
   ]
  },
  {
   "cell_type": "code",
   "execution_count": 12,
   "id": "773f1215",
   "metadata": {},
   "outputs": [],
   "source": [
    "# Dividiendo el conjunto \"df0\" en conjunto de entrenamiento y conjunto de validación\n",
    "X = df0.drop(['id','product'],axis=1)\n",
    "y = df0['product']\n",
    "\n",
    "features_train_0, features_valid_0, target_train_0, target_valid_0 = train_test_split(X,y,test_size=0.25,random_state=12345)\n"
   ]
  },
  {
   "cell_type": "code",
   "execution_count": 13,
   "id": "24c1c364",
   "metadata": {},
   "outputs": [
    {
     "data": {
      "text/plain": [
       "LinearRegression()"
      ]
     },
     "execution_count": 13,
     "metadata": {},
     "output_type": "execute_result"
    }
   ],
   "source": [
    "# Creando el modelo de regresión líneal para \"df0\"\n",
    "model_0 = LinearRegression()\n",
    "model_0.fit(features_train_0, target_train_0)"
   ]
  },
  {
   "cell_type": "markdown",
   "id": "590ca4e6",
   "metadata": {},
   "source": [
    "## Dividiendo el conjunto de datos en el conjunto de entrenamiento y el conjunto de validación para la región \"df1\""
   ]
  },
  {
   "cell_type": "code",
   "execution_count": 14,
   "id": "3c9b8826",
   "metadata": {},
   "outputs": [],
   "source": [
    "# Dividiendo el conjunto \"df1\" en conjunto de entrenamiento y conjunto de validación\n",
    "X = df1.drop(['id','product'],axis=1)\n",
    "y = df1['product']\n",
    "\n",
    "features_train_1, features_valid_1, target_train_1, target_valid_1 = train_test_split(X,y,test_size=0.25,random_state=12345)\n"
   ]
  },
  {
   "cell_type": "code",
   "execution_count": 15,
   "id": "2dcdbeec",
   "metadata": {},
   "outputs": [
    {
     "data": {
      "text/plain": [
       "LinearRegression()"
      ]
     },
     "execution_count": 15,
     "metadata": {},
     "output_type": "execute_result"
    }
   ],
   "source": [
    "# Creando el modelo de regresión líneal para \"df1\"\n",
    "model_1 = LinearRegression()\n",
    "model_1.fit(features_train_1, target_train_1)"
   ]
  },
  {
   "cell_type": "markdown",
   "id": "7e1e2155",
   "metadata": {},
   "source": [
    "## Dividiendo el conjunto de datos en el conjunto de entrenamiento y el conjunto de validación para la región \"df2\""
   ]
  },
  {
   "cell_type": "code",
   "execution_count": 16,
   "id": "d362dad9",
   "metadata": {},
   "outputs": [],
   "source": [
    "# Dividiendo el conjunto \"df2\" en conjunto de entrenamiento y conjunto de validación\n",
    "X = df2.drop(['id','product'],axis=1)\n",
    "y = df2['product']\n",
    "\n",
    "features_train_2, features_valid_2, target_train_2, target_valid_2 = train_test_split(X,y,test_size=0.25,random_state=12345)\n"
   ]
  },
  {
   "cell_type": "code",
   "execution_count": 17,
   "id": "cb12fac3",
   "metadata": {},
   "outputs": [
    {
     "data": {
      "text/plain": [
       "LinearRegression()"
      ]
     },
     "execution_count": 17,
     "metadata": {},
     "output_type": "execute_result"
    }
   ],
   "source": [
    "# Creando el modelo de regresión líneal para \"df2\"\n",
    "model_2 = LinearRegression()\n",
    "model_2.fit(features_train_2, target_train_2)"
   ]
  },
  {
   "cell_type": "markdown",
   "id": "660f222c",
   "metadata": {},
   "source": [
    "Una vez teniendo los modelos entrenados, crearemos una especie de `matriz de confusión` en la cuál asignaremos el `score` obtenido al hacer predicciones con los diferentes conuntos de validación."
   ]
  },
  {
   "cell_type": "code",
   "execution_count": 18,
   "id": "3b21a8e3",
   "metadata": {},
   "outputs": [
    {
     "data": {
      "text/html": [
       "<div>\n",
       "<style scoped>\n",
       "    .dataframe tbody tr th:only-of-type {\n",
       "        vertical-align: middle;\n",
       "    }\n",
       "\n",
       "    .dataframe tbody tr th {\n",
       "        vertical-align: top;\n",
       "    }\n",
       "\n",
       "    .dataframe thead th {\n",
       "        text-align: right;\n",
       "    }\n",
       "</style>\n",
       "<table border=\"1\" class=\"dataframe\">\n",
       "  <thead>\n",
       "    <tr style=\"text-align: right;\">\n",
       "      <th></th>\n",
       "      <th>model_0</th>\n",
       "      <th>model_1</th>\n",
       "      <th>model_2</th>\n",
       "    </tr>\n",
       "  </thead>\n",
       "  <tbody>\n",
       "    <tr>\n",
       "      <th>0</th>\n",
       "      <td>0.279943</td>\n",
       "      <td>0.999623</td>\n",
       "      <td>0.205248</td>\n",
       "    </tr>\n",
       "  </tbody>\n",
       "</table>\n",
       "</div>"
      ],
      "text/plain": [
       "    model_0   model_1   model_2\n",
       "0  0.279943  0.999623  0.205248"
      ]
     },
     "execution_count": 18,
     "metadata": {},
     "output_type": "execute_result"
    }
   ],
   "source": [
    "scores = {'model_0': [model_0.score(features_valid_0,target_valid_0)],\n",
    "          'model_1': [model_1.score(features_valid_1,target_valid_1)],\n",
    "          'model_2': [model_2.score(features_valid_2,target_valid_2)]}\n",
    "\n",
    "pd.DataFrame(data=scores)"
   ]
  },
  {
   "cell_type": "markdown",
   "id": "8c9a0b9f",
   "metadata": {},
   "source": [
    "Lo que podemos obsevar en el resultado es que tenemos un coeficiente de determinación distinto para cada modelo, es decir, la recta que se logra modelar a través de la `regresión linal`, tiene diferentes pendientes ademas que tenemos un modelo que es una recta completamente horizontal\n",
    "\n",
    "Para los diferentes casos, podemos observar:\n",
    "- `modelo_0`: Genera una recta levemente positiva.\n",
    "- `modelo_1`: Genera una recta completamente horizontal.\n",
    "- `modelo_2`: Generea una recta levemente negativa.\n",
    "\n",
    "Lo que nos lleva a concluir que cada uno de los set de datos debe ser trabajado de forma aislada del resto puesto que sus características no ponderan de la misma forma en todos los casos. Por tal motivo, realizaremos las predicciones para cada set de datos para posteriormente analizar los resultados y evaluar las rectas modeladas."
   ]
  },
  {
   "cell_type": "code",
   "execution_count": 19,
   "id": "db29b6e6",
   "metadata": {},
   "outputs": [],
   "source": [
    "# Guardando los resultados de las predicciones\n",
    "result_0 = model_0.predict(features_valid_0)\n",
    "result_1 = model_1.predict(features_valid_1)\n",
    "result_2 = model_2.predict(features_valid_2)"
   ]
  },
  {
   "cell_type": "markdown",
   "id": "f9a683db",
   "metadata": {},
   "source": [
    "Una vez teniendo los valores de las predicciones, una forma de poder evaluar la recta generada por el modelo es haciendo uso de `RECM` ó también conocida como `Raíz del error cuadrático medio`, que es una medida que nos permite calcular la diferencia entre los valores predichos por un modelo y los valores observados. En pocas palabras nos va a permitir encontrar la diferencia (distancia) entre la posición de la recta y los valores reales.\n",
    "\n",
    "## Calculando la \"Raíz del error cuadrático medio\""
   ]
  },
  {
   "cell_type": "code",
   "execution_count": 20,
   "id": "76d7bca2",
   "metadata": {},
   "outputs": [
    {
     "data": {
      "text/html": [
       "<div>\n",
       "<style scoped>\n",
       "    .dataframe tbody tr th:only-of-type {\n",
       "        vertical-align: middle;\n",
       "    }\n",
       "\n",
       "    .dataframe tbody tr th {\n",
       "        vertical-align: top;\n",
       "    }\n",
       "\n",
       "    .dataframe thead th {\n",
       "        text-align: right;\n",
       "    }\n",
       "</style>\n",
       "<table border=\"1\" class=\"dataframe\">\n",
       "  <thead>\n",
       "    <tr style=\"text-align: right;\">\n",
       "      <th></th>\n",
       "      <th>RECM_0</th>\n",
       "      <th>RECM_1</th>\n",
       "      <th>RECM_2</th>\n",
       "    </tr>\n",
       "  </thead>\n",
       "  <tbody>\n",
       "    <tr>\n",
       "      <th>Distancia promedio</th>\n",
       "      <td>37.579422</td>\n",
       "      <td>0.893099</td>\n",
       "      <td>40.029709</td>\n",
       "    </tr>\n",
       "  </tbody>\n",
       "</table>\n",
       "</div>"
      ],
      "text/plain": [
       "                       RECM_0    RECM_1     RECM_2\n",
       "Distancia promedio  37.579422  0.893099  40.029709"
      ]
     },
     "execution_count": 20,
     "metadata": {},
     "output_type": "execute_result"
    }
   ],
   "source": [
    "recm = {'RECM_0': [mean_squared_error(result_0,target_valid_0,squared=False)],\n",
    "        'RECM_1': [mean_squared_error(result_1,target_valid_1,squared=False)],\n",
    "        'RECM_2': [mean_squared_error(result_2,target_valid_2,squared=False)]}\n",
    "\n",
    "pd.DataFrame(data=recm,index=['Distancia promedio'])"
   ]
  },
  {
   "cell_type": "markdown",
   "id": "dbc5e0ab",
   "metadata": {},
   "source": [
    "Como podemos ver en la tabla, y como era de esperarse, al tratarse de `model_0` podemos ver que hay una diferencia promedio de aproximadamente `38` unidades entre los valores reales y la recta modelada. Respecto a `model_1` vemos que hay una diferencia promedio practicamente `nula (0.89)` entre los valores reales y la recta modelada. Por último para `model_2` hay una diferencia promedio de `40` unidades aproximadamente entre la recta y los valores reales.\n",
    "\n",
    "# Cálculo de ganancias\n",
    "\n",
    "El presupuesto que se tiene para el desarrollo de 200 pozos petroleros es de `100 millones de dolares`, es decir, un aproximado de `500 mil dolares` por pozo aproximadamente. Por lo que si un barril de materia prima genera `4.5 dolares` de ingreso, el pozo debe superar al menos la inversión realizada. Por otro lado, el volumen de reservas esta expresado en miles de barriles. Por estas razones, debemos calcular la cantidad de reserva mínima suficiente para desarrollar un nuevo pozo sin perdidas.\n",
    "\n",
    "\n",
    "## Calculando el volumen de reservas suficientes para no tener perdidas\n",
    "\n",
    "Para poder hacer este cálculo, debemos basarnos en la información que anteriormente se porporciono:\n",
    "- No debemos tener perdidas, es decir, la ganancia mínima que debe tener cada pozo debe ser de `500 mil`.\n",
    "- La ganancia por cada mil barriles es de `4500 dolares`.\n",
    "\n",
    "Con esta información tendremos una formula de la siguiente manera:\n",
    "\n",
    "\n",
    "$$500,000 = (4,500) (barriles)$$\n",
    "\n",
    "\n",
    "Despejando `# barriles` obtenemos:\n",
    "\n",
    "\n",
    "$$barriles = \\frac{500,000}{4,500}$$\n",
    "\n",
    "\n",
    "Por lo que para que un pozo no tenga perdidas, al menos debe contar con un total de `111.111 mil` barriles."
   ]
  },
  {
   "cell_type": "code",
   "execution_count": 21,
   "id": "923b830f",
   "metadata": {},
   "outputs": [
    {
     "data": {
      "text/html": [
       "<div>\n",
       "<style scoped>\n",
       "    .dataframe tbody tr th:only-of-type {\n",
       "        vertical-align: middle;\n",
       "    }\n",
       "\n",
       "    .dataframe tbody tr th {\n",
       "        vertical-align: top;\n",
       "    }\n",
       "\n",
       "    .dataframe thead th {\n",
       "        text-align: right;\n",
       "    }\n",
       "</style>\n",
       "<table border=\"1\" class=\"dataframe\">\n",
       "  <thead>\n",
       "    <tr style=\"text-align: right;\">\n",
       "      <th></th>\n",
       "      <th>Media df0</th>\n",
       "      <th>Media df1</th>\n",
       "      <th>Media df2</th>\n",
       "    </tr>\n",
       "  </thead>\n",
       "  <tbody>\n",
       "    <tr>\n",
       "      <th>111.111</th>\n",
       "      <td>92.5</td>\n",
       "      <td>68.825</td>\n",
       "      <td>95.0</td>\n",
       "    </tr>\n",
       "  </tbody>\n",
       "</table>\n",
       "</div>"
      ],
      "text/plain": [
       "         Media df0  Media df1  Media df2\n",
       "111.111       92.5     68.825       95.0"
      ]
     },
     "execution_count": 21,
     "metadata": {},
     "output_type": "execute_result"
    }
   ],
   "source": [
    "# Comparando la cifra mínima con la media de todas las regiones\n",
    "means = {'Media df0': df0['product'].mean(),\n",
    "         'Media df1': df1['product'].mean(),\n",
    "         'Media df2': df2['product'].mean()}\n",
    "\n",
    "pd.DataFrame(data=means,index=['111.111'])"
   ]
  },
  {
   "cell_type": "markdown",
   "id": "95be360f",
   "metadata": {},
   "source": [
    "Como podemos ver, la reserva media de cada región se encuentra por debajo de la cantidad necesaria para no tener perdidas en la inversión, sin embargo una posible solución es que, si se tuviera más información, las regiones podrían ser acotadas aun más de tal modo que se pudieran tomar unicaménte datos de aquellos pozos que tienen reservas grandes de petroleo.\n",
    "\n",
    "Sin embargo como no tenemos información suficientemente explicita para poder hacer dicha acotación, es importante seguir trabajando con los datos para poder hacer un análisis completo por regiones.\n",
    "\n",
    "# Cálculo de ganancias de un conjunto de pozos de petroleo\n",
    "\n",
    "Una vez conociendo la cantidad mínima de reserva para no tener perdidas, crearemos una función que permita obtener el ingreso al extraer las reservas. Para esto, por regiones, extraeremos los pozos con mayor margen de producto y sobre estos empezaremos a trabajar.\n",
    "\n",
    "## 200 pozos más rentables predichos por el modelo para las distintas regiones\n",
    "\n",
    "Comenzaremos con concatenar los conjuntos de validación de las distintas regiones con las predicciones realizadas por el modelo. Esto se hace con la intención de poder tener una comparativa entre el valor real y la predicción pues hay variaciones que se encuentran muy alejadas de los valores reales y por tal motivo es importante asegurarse que aquellos pozos a seleccionar para el cálculo de ganancias sean las predicciones con mejor calidad."
   ]
  },
  {
   "cell_type": "code",
   "execution_count": 22,
   "id": "cc1e3599",
   "metadata": {},
   "outputs": [
    {
     "name": "stdout",
     "output_type": "stream",
     "text": [
      "<class 'pandas.core.frame.DataFrame'>\n",
      "RangeIndex: 25000 entries, 0 to 24999\n",
      "Data columns (total 5 columns):\n",
      " #   Column   Non-Null Count  Dtype  \n",
      "---  ------   --------------  -----  \n",
      " 0   f0       25000 non-null  float64\n",
      " 1   f1       25000 non-null  float64\n",
      " 2   f2       25000 non-null  float64\n",
      " 3   product  25000 non-null  float64\n",
      " 4   result   25000 non-null  float64\n",
      "dtypes: float64(5)\n",
      "memory usage: 976.7 KB\n"
     ]
    }
   ],
   "source": [
    "# Concatenacion del conjunto de validación y las predicciones para la región \"0\"\n",
    "res0 = pd.concat([features_valid_0,target_valid_0],axis=1)\n",
    "res0.reset_index(drop=True,inplace=True)\n",
    "res0 = pd.concat([res0,pd.Series(result_0,name='result')],axis=1)\n",
    "res0.info()"
   ]
  },
  {
   "cell_type": "code",
   "execution_count": 23,
   "id": "4764bcd8",
   "metadata": {},
   "outputs": [
    {
     "name": "stdout",
     "output_type": "stream",
     "text": [
      "<class 'pandas.core.frame.DataFrame'>\n",
      "RangeIndex: 25000 entries, 0 to 24999\n",
      "Data columns (total 5 columns):\n",
      " #   Column   Non-Null Count  Dtype  \n",
      "---  ------   --------------  -----  \n",
      " 0   f0       25000 non-null  float64\n",
      " 1   f1       25000 non-null  float64\n",
      " 2   f2       25000 non-null  float64\n",
      " 3   product  25000 non-null  float64\n",
      " 4   result   25000 non-null  float64\n",
      "dtypes: float64(5)\n",
      "memory usage: 976.7 KB\n"
     ]
    }
   ],
   "source": [
    "# Concatenacion del conjunto de validación y las predicciones para la región \"1\"\n",
    "res1 = pd.concat([features_valid_1,target_valid_1],axis=1)\n",
    "res1.reset_index(drop=True,inplace=True)\n",
    "res1 = pd.concat([res1,pd.Series(result_1,name='result')],axis=1)\n",
    "res1.info()"
   ]
  },
  {
   "cell_type": "code",
   "execution_count": 24,
   "id": "a3cd2951",
   "metadata": {},
   "outputs": [
    {
     "name": "stdout",
     "output_type": "stream",
     "text": [
      "<class 'pandas.core.frame.DataFrame'>\n",
      "RangeIndex: 25000 entries, 0 to 24999\n",
      "Data columns (total 5 columns):\n",
      " #   Column   Non-Null Count  Dtype  \n",
      "---  ------   --------------  -----  \n",
      " 0   f0       25000 non-null  float64\n",
      " 1   f1       25000 non-null  float64\n",
      " 2   f2       25000 non-null  float64\n",
      " 3   product  25000 non-null  float64\n",
      " 4   result   25000 non-null  float64\n",
      "dtypes: float64(5)\n",
      "memory usage: 976.7 KB\n"
     ]
    }
   ],
   "source": [
    "# Concatenacion del conjunto de validación y las predicciones para la región \"2\"\n",
    "res2 = pd.concat([features_valid_2,target_valid_2],axis=1)\n",
    "res2.reset_index(drop=True,inplace=True)\n",
    "res2 = pd.concat([res2,pd.Series(result_2,name='result')],axis=1)\n",
    "res2.info()"
   ]
  },
  {
   "cell_type": "code",
   "execution_count": 25,
   "id": "c60a0d17",
   "metadata": {},
   "outputs": [],
   "source": [
    "# Creación de la función \"income\"\n",
    "def income(data):\n",
    "    total_income = data.sort_values(by='result',ascending=False)\n",
    "    total_income = total_income['product'].head(200).sum()\n",
    "    return total_income*4_500 - 100_000_000"
   ]
  },
  {
   "cell_type": "markdown",
   "id": "92109ca1",
   "metadata": {},
   "source": [
    "Teniendo las funciones a utilizar podemos determinar cuál sería el margén de ganancia por región una vez se presentan las predicciones realizadas con mayor ingreso.\n",
    "\n",
    "Las funciones sirven para lo siguiente:\n",
    "\n",
    "- `values`: Identifica las predicciones que están de al menos `111.111 mil` barriles de reserva y que no se encuentran tan alejadas de los valores reales al cuál se le pasa el `set dedatos` con el que se va a trabajar.\n",
    "- `income`: Calcula el beneficio neto (ingreso menos inversión por falta de más datos) a la cuál se le pasan dos parámetros, el primero es el `set de datos` con el que se va a trabajar y el segundo es el `tamaño del bloque` a considerar."
   ]
  },
  {
   "cell_type": "code",
   "execution_count": 26,
   "id": "da40e2ac",
   "metadata": {},
   "outputs": [],
   "source": [
    "# Aplicando la función \"income\"\n",
    "income_0 = income(res0)\n",
    "income_1 = income(res1)\n",
    "income_2 = income(res2)"
   ]
  },
  {
   "cell_type": "code",
   "execution_count": 27,
   "id": "9f4dd033",
   "metadata": {},
   "outputs": [
    {
     "data": {
      "text/html": [
       "<div>\n",
       "<style scoped>\n",
       "    .dataframe tbody tr th:only-of-type {\n",
       "        vertical-align: middle;\n",
       "    }\n",
       "\n",
       "    .dataframe tbody tr th {\n",
       "        vertical-align: top;\n",
       "    }\n",
       "\n",
       "    .dataframe thead th {\n",
       "        text-align: right;\n",
       "    }\n",
       "</style>\n",
       "<table border=\"1\" class=\"dataframe\">\n",
       "  <thead>\n",
       "    <tr style=\"text-align: right;\">\n",
       "      <th></th>\n",
       "      <th>Zona 0</th>\n",
       "      <th>Zona 1</th>\n",
       "      <th>Zona 2</th>\n",
       "    </tr>\n",
       "  </thead>\n",
       "  <tbody>\n",
       "    <tr>\n",
       "      <th>Beneficio neto</th>\n",
       "      <td>33208260.43139851</td>\n",
       "      <td>24150866.966815114</td>\n",
       "      <td>27103499.635998324</td>\n",
       "    </tr>\n",
       "  </tbody>\n",
       "</table>\n",
       "</div>"
      ],
      "text/plain": [
       "                           Zona 0              Zona 1              Zona 2\n",
       "Beneficio neto  33208260.43139851  24150866.966815114  27103499.635998324"
      ]
     },
     "execution_count": 27,
     "metadata": {},
     "output_type": "execute_result"
    }
   ],
   "source": [
    "# Cuadro comparativo de \"ingresos\" de los 200 pozos con mayor cantidad de reserva de petroleo en barriles\n",
    "data_income = {'Zona 0': [str(income_0)],\n",
    "               'Zona 1': [str(income_1)],\n",
    "               'Zona 2': [str(income_2)]}\n",
    "pd.DataFrame(data=data_income,index=['Beneficio neto'])"
   ]
  },
  {
   "cell_type": "markdown",
   "id": "34b29649",
   "metadata": {},
   "source": [
    "Como podemos observar en la tabla, el beneficio neto de los `200` pozos mejor predichos de cada zona es el siguiente:\n",
    "\n",
    "- `Zona 0`: Tiene un beneficio neto de `39,960,488 USD`, se decir, a los `ingresos` se le resto la inversión de `100,000,000 USD`.\n",
    "- `Zona 1`: Tiene un beneficio neto de `24,857,120 USD`, que aunque el modelado de la recta se encontraba considerablemente mejor ajustado, vemos que es menor que el caso de la `Zona 0`.\n",
    "- `Zona 2`: Tiene un beneficio neto de `33,217,543 USD` que si bien es más próximo a la `Zona 0` aun se encuentra por debajo de la misma.\n",
    "\n",
    "En conclusión, de acuerdo con los datos y las predicciones realizadas por el modelo de `regresión lineal`, la `Zona 0` es la zona con mejor `beneficio neto` para `OilyGiant` pues puede obtener el retorno de inversión más una ganancia liquida al hacer uso de estos pozos y sus aledaños pues cotienen la mayor cantidad de reservas de petroleo (medido en barriles) que el resto de las zonas.\n",
    "\n",
    "# Cálculo de riesgos y ganancias por cada región\n",
    "\n",
    "Haciendo un cálculo del `beneficio neto` no es suficiente para considerar una inversión segura (en el sentido de maximizar las ganancias) pues es importante evaluar los riesgos que esto implica y que pueden ser diversos, sin embargo, y en este caso en particular, como hemos notado hasta el momento, la cantidad de información es limitada y poco explicita por lo que no contamos con información suficiente para usar técnicas tradicionales de calculo de riesgos y beneficios, sin embargo, para este tipo de casos podemos aplicar la técnica del `bootstraping`.\n",
    "\n",
    "El `bootstraping` es una técnica que permite a través de información limitada poder hacer cálculos aplicados a los negocios que nos permitan conocer sus riesgos, beneficios, etc. Por esta razón haremos uso de esta técnica aplicada a `1000` muestras para encontrar la distribución del beneficio con un `99%` de probabilidad de que sea un pozo prometedor.\n",
    "\n",
    "## Función de Bootstraping"
   ]
  },
  {
   "cell_type": "code",
   "execution_count": 28,
   "id": "eedc1950",
   "metadata": {},
   "outputs": [],
   "source": [
    "# Función de boostraping\n",
    "def bootstraping(data):\n",
    "    subsample_res = []\n",
    "    state = np.random.RandomState(12345)\n",
    "    for _ in range(1000):\n",
    "        subsample = data.sample(n=500,replace=True,random_state=state)\n",
    "        subsample_res.append(income(subsample)) # .quantile(q=0.99)\n",
    "    return subsample_res"
   ]
  },
  {
   "cell_type": "markdown",
   "id": "7550d968",
   "metadata": {},
   "source": [
    "Esta función retorna una arreglo que contiene las medias de las muestras generadas, por lo que puede ser trabajadas de distintas formas sin embargo lo que nos interesa conocer es sobre que rangos es que encuentra cada zona por lo que vamos a encontrarlo.\n",
    "\n",
    "## Aplicando \"Bootstraping\" y cálculando el intrevalo de confianza para la región \"0\"\n",
    "\n",
    "OilyGiant solicita que el intervalo de confianza sea del `95%` por lo que este se dividirá en dos partes, el límite inferior de `2.5%` y el límite superior de `97.5%`."
   ]
  },
  {
   "cell_type": "code",
   "execution_count": 29,
   "id": "eae7a03e",
   "metadata": {},
   "outputs": [
    {
     "name": "stdout",
     "output_type": "stream",
     "text": [
      "Límite inferior: -1112155.4589049604\n",
      "Límite superior: 9097669.41553423\n"
     ]
    }
   ],
   "source": [
    "# Aplicando Bootstraping\n",
    "interval_0 = pd.Series(bootstraping(res0))\n",
    "lower_0 = interval_0.quantile(0.025)\n",
    "upper_0 = interval_0.quantile(0.975)\n",
    "print('Límite inferior:',lower_0)\n",
    "print('Límite superior:',upper_0)"
   ]
  },
  {
   "cell_type": "markdown",
   "id": "fdc0dfb7",
   "metadata": {},
   "source": [
    "Como podemos observar, nos encontramos con un intervalo de confianza satisfactorio en el que se tiene un margen de ganancia sobrepasando la reserva mínima encontrada.\n",
    "\n",
    "## Aplicando \"Bootstraping\" y cálculando el intrevalo de confianza para la región \"1\""
   ]
  },
  {
   "cell_type": "code",
   "execution_count": 30,
   "id": "20c53962",
   "metadata": {},
   "outputs": [
    {
     "name": "stdout",
     "output_type": "stream",
     "text": [
      "Límite inferior: 338205.0939898458\n",
      "Límite superior: 8522894.538660347\n"
     ]
    }
   ],
   "source": [
    "# Aplicando Bootstraping\n",
    "interval_1 = pd.Series(bootstraping(res1))\n",
    "lower_1 = interval_1.quantile(0.025)\n",
    "upper_1 = interval_1.quantile(0.975)\n",
    "print('Límite inferior:',lower_1)\n",
    "print('Límite superior:',upper_1)"
   ]
  },
  {
   "cell_type": "markdown",
   "id": "6c31da0c",
   "metadata": {},
   "source": [
    "## Aplicando \"Bootstraping\" y cálculando el intrevalo de confianza para la región \"2\""
   ]
  },
  {
   "cell_type": "code",
   "execution_count": 31,
   "id": "0a853e46",
   "metadata": {},
   "outputs": [
    {
     "name": "stdout",
     "output_type": "stream",
     "text": [
      "Límite inferior: -1633504.1339559986\n",
      "Límite superior: 9503595.749237997\n"
     ]
    }
   ],
   "source": [
    "# Encontrando el intrevalo de confianza\n",
    "interval_2 = pd.Series(bootstraping(res2))\n",
    "lower_2 = interval_2.quantile(0.025)\n",
    "upper_2 = interval_2.quantile(0.975)\n",
    "print('Límite inferior:',lower_2)\n",
    "print('Límite superior:',upper_2)"
   ]
  },
  {
   "cell_type": "markdown",
   "id": "6309fae9",
   "metadata": {},
   "source": [
    "De acuerdo con los resultados, podemos obsevar que los intervalos de confianza soy muy reducidos, es decir, que varían decimas, sin embargo debemos tomar en cuenta que estos rangos estan hablando de `miles de barriles`, por lo que es importante hacer las evaluaciones respectivas tomando en cuenta estos decimales.\n",
    "\n",
    "## Cálculo de perdidas\n",
    "\n",
    "Una vez que conocemos el intervalo de confianza de las distintas zonas, y podemos calcular también el beneficio promedio de cada una de ellas, calcularemos la pérdida expresada como una probabilidad y posteriormente como un porcentaje."
   ]
  },
  {
   "cell_type": "code",
   "execution_count": 33,
   "id": "7c2edbd5",
   "metadata": {},
   "outputs": [],
   "source": [
    "# Calculo de perdida en \"probabilidades\"\n",
    "p0 = (interval_0 < 0).mean()\n",
    "p1 = (interval_1 < 0).mean()\n",
    "p2 = (interval_2 < 0).mean()"
   ]
  },
  {
   "cell_type": "markdown",
   "id": "dc1fb742",
   "metadata": {},
   "source": [
    "Una vez teniendo la información, procederemos a mostrarla."
   ]
  },
  {
   "cell_type": "code",
   "execution_count": 34,
   "id": "f0bdfeb7",
   "metadata": {},
   "outputs": [
    {
     "data": {
      "text/html": [
       "<div>\n",
       "<style scoped>\n",
       "    .dataframe tbody tr th:only-of-type {\n",
       "        vertical-align: middle;\n",
       "    }\n",
       "\n",
       "    .dataframe tbody tr th {\n",
       "        vertical-align: top;\n",
       "    }\n",
       "\n",
       "    .dataframe thead th {\n",
       "        text-align: right;\n",
       "    }\n",
       "</style>\n",
       "<table border=\"1\" class=\"dataframe\">\n",
       "  <thead>\n",
       "    <tr style=\"text-align: right;\">\n",
       "      <th></th>\n",
       "      <th>Beneficio promedio</th>\n",
       "      <th>Intervalo inferior</th>\n",
       "      <th>Intervalo superior</th>\n",
       "      <th>Porcentaje de riesgo</th>\n",
       "    </tr>\n",
       "  </thead>\n",
       "  <tbody>\n",
       "    <tr>\n",
       "      <th>Zona 0</th>\n",
       "      <td>92.592568</td>\n",
       "      <td>-1.112155e+06</td>\n",
       "      <td>9.097669e+06</td>\n",
       "      <td>6.9</td>\n",
       "    </tr>\n",
       "    <tr>\n",
       "      <th>Zona 1</th>\n",
       "      <td>68.728547</td>\n",
       "      <td>3.382051e+05</td>\n",
       "      <td>8.522895e+06</td>\n",
       "      <td>1.5</td>\n",
       "    </tr>\n",
       "    <tr>\n",
       "      <th>Zona 2</th>\n",
       "      <td>94.965046</td>\n",
       "      <td>-1.633504e+06</td>\n",
       "      <td>9.503596e+06</td>\n",
       "      <td>7.6</td>\n",
       "    </tr>\n",
       "  </tbody>\n",
       "</table>\n",
       "</div>"
      ],
      "text/plain": [
       "        Beneficio promedio  Intervalo inferior  Intervalo superior  \\\n",
       "Zona 0           92.592568       -1.112155e+06        9.097669e+06   \n",
       "Zona 1           68.728547        3.382051e+05        8.522895e+06   \n",
       "Zona 2           94.965046       -1.633504e+06        9.503596e+06   \n",
       "\n",
       "        Porcentaje de riesgo  \n",
       "Zona 0                   6.9  \n",
       "Zona 1                   1.5  \n",
       "Zona 2                   7.6  "
      ]
     },
     "execution_count": 34,
     "metadata": {},
     "output_type": "execute_result"
    }
   ],
   "source": [
    "# Información obtenida\n",
    "data_end = {'Beneficio promedio': [res0['result'].mean(),\n",
    "                                   res1['result'].mean(),\n",
    "                                   res2['result'].mean()],\n",
    "            'Intervalo inferior': [lower_0,lower_1,lower_2],\n",
    "            'Intervalo superior': [upper_0,upper_1,upper_2],\n",
    "            'Porcentaje de riesgo': [p0*100,p1*100,p2*100]}\n",
    "\n",
    "pd.DataFrame(data=data_end,index=['Zona 0','Zona 1','Zona 2'])\n"
   ]
  },
  {
   "cell_type": "markdown",
   "id": "814622e9",
   "metadata": {},
   "source": [
    "# Conclusiones\n",
    "\n",
    "De acuerdo con la información propocionada por los resultados podemos observar que tanto la `Zona 0` como la `Zona 2` tiene un riesgo más elevado que la `Zona 1` esto puede ser marcado por distintas situaciones destacando de entre ellas las siguientes:\n",
    "\n",
    "- El modelo de regresión lineal generado para hacer las predicciones de los resultados, se ajusta mucho mejor de tal manera que hay una variación máxima de `una unidad aproximadamente` entre las predicciones y los valores reales.\n",
    "\n",
    "- Por otro lado podemos observar que el intervalo de confianza que esta zona proporciona se mantiene por encima de `0`, es decir, no tiene valores negativos lo que aumenta la confianza en esta zona.\n",
    "\n",
    "En conclusión podemos decir que la `Zona 1` es la zona que mejor se ajusta a las necesidades de la inversión pues máximiza el rendimiento que se puede generar sin perder de vista el riesgo que esto implica que es del `1.5%` lo cuál genera confianza a \"OilyGiant\" para invertir."
   ]
  }
 ],
 "metadata": {
  "kernelspec": {
   "display_name": "Python 3 (ipykernel)",
   "language": "python",
   "name": "python3"
  },
  "language_info": {
   "codemirror_mode": {
    "name": "ipython",
    "version": 3
   },
   "file_extension": ".py",
   "mimetype": "text/x-python",
   "name": "python",
   "nbconvert_exporter": "python",
   "pygments_lexer": "ipython3",
   "version": "3.9.7"
  },
  "toc": {
   "base_numbering": 1,
   "nav_menu": {},
   "number_sections": true,
   "sideBar": true,
   "skip_h1_title": false,
   "title_cell": "Table of Contents",
   "title_sidebar": "Contents",
   "toc_cell": false,
   "toc_position": {},
   "toc_section_display": true,
   "toc_window_display": true
  }
 },
 "nbformat": 4,
 "nbformat_minor": 5
}
